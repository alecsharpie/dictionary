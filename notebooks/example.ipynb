{
 "cells": [
  {
   "cell_type": "code",
   "execution_count": 1,
   "id": "a2d96a43",
   "metadata": {},
   "outputs": [],
   "source": [
    "from dictionary.request import get_origin"
   ]
  },
  {
   "cell_type": "code",
   "execution_count": 5,
   "id": "78a4876a",
   "metadata": {},
   "outputs": [
    {
     "data": {
      "text/plain": [
       "'Old English bēan, of Germanic origin; related to Dutch boon and German Bohne .'"
      ]
     },
     "execution_count": 5,
     "metadata": {},
     "output_type": "execute_result"
    }
   ],
   "source": [
    "get_origin('beans')"
   ]
  },
  {
   "cell_type": "code",
   "execution_count": null,
   "id": "a5edccb3",
   "metadata": {},
   "outputs": [],
   "source": []
  }
 ],
 "metadata": {
  "kernelspec": {
   "display_name": "Python 3 (ipykernel)",
   "language": "python",
   "name": "python3"
  },
  "language_info": {
   "codemirror_mode": {
    "name": "ipython",
    "version": 3
   },
   "file_extension": ".py",
   "mimetype": "text/x-python",
   "name": "python",
   "nbconvert_exporter": "python",
   "pygments_lexer": "ipython3",
   "version": "3.8.6"
  }
 },
 "nbformat": 4,
 "nbformat_minor": 5
}
